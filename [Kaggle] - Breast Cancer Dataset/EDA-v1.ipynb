{
 "cells": [
  {
   "cell_type": "markdown",
   "id": "67f940bf",
   "metadata": {},
   "source": [
    "# Breast Cancer Dataset\n",
    "\n",
    "---\n",
    "## Descrição:\n",
    "O câncer de mama é o câncer mais comum entre as mulheres no mundo. Representa 25% de todos os casos de câncer e afetou mais de 2,1 milhões de pessoas somente em 2015. Ele se manifesta quando as células da mama começam a crescer descontroladamente. Essas células geralmente formam tumores que podem ser vistos por raio-X ou sentidos como nódulos na região da mama.\n",
    "\n",
    "O principal desafio para sua detecção é como classificar os tumores em malignos (cancerosos) ou benignos (não cancerosos). Solicitamos que você conclua a análise de classificação desses tumores usando aprendizado de máquina (com SVMs) e o Conjunto de Dados de Câncer de Mama de Wisconsin (Diagnóstico).\n",
    "\n",
    "## Agradecimentos:\n",
    "Este conjunto de dados foi obtido do Kaggle.\n",
    "\n",
    "## Objetivo:\n",
    "- Compreender o Conjunto de Dados e realizar a limpeza (se necessário).\n",
    "- Construir modelos de classificação para prever se o tipo de câncer é maligno ou benigno.\n",
    "- Também refinar os hiperparâmetros e comparar as métricas de avaliação de vários algoritmos de classificação.\n",
    "\n",
    "Link dataset Kaggle: https://www.kaggle.com/datasets/yasserh/breast-cancer-dataset\n",
    "\n",
    "---"
   ]
  }
 ],
 "metadata": {
  "kernelspec": {
   "display_name": "global",
   "language": "python",
   "name": "python3"
  },
  "language_info": {
   "name": "python",
   "version": "3.11.13"
  }
 },
 "nbformat": 4,
 "nbformat_minor": 5
}
